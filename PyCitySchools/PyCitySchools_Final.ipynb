{
 "cells": [
  {
   "cell_type": "markdown",
   "id": "00bc7424",
   "metadata": {},
   "source": [
    "# PyCity Schools Analysis\n",
    "\n",
    "### Overall Summary\n",
    "#### Reading and math test scores were provided for the PyCity School District and analyzed at both the district and school levels, looking at a variety of factors: school size, school spending, grade level, and school type (district or charter). Overall the district's average reading and math scores were over the \"passing\" score of 70, calculating at 82 and 79, respectively. The average reading score was higher than the average math score both at the district level and at every school. Along with this, the percentage of students passing the reading assessment was higher than the math assessment at every school as well. Summary Data Frames were produced to allow a deeper dig into the scores and to allow stakeholders to reach conclusions and make a plan for further action.\n",
    "\n",
    "### Conclusions and Recommendations\n",
    "#### When looking at test performance from the perspective of school spending, the data shows that higher per capita spending led to lower average test scores across the schools. This information on its own doesn't really allow us to firmly say \"spend less money and get higher test scores\". The recommendation here would be to look further into where the per capita funding is going at each of the schools to allow district leaders to make changes in how funds are spent. For example, it could very well be the schools with less funding are spending a higher percentage on math and reading support programs, or on staff training, or on a particular support program other schools aren't using. Without further spending data, it's not possible to know if it's truly a dollar amount issue or quality of spending issue.\n",
    "\n",
    "#### Small and Medium sized schools had much higher test scores and an overall passing rate than large sized schools. Because the difference in performance is so great, I'd recommend that district leaders look into ways to off-set the larger schools. This could involve district rezoning, adding another school, or looking at ways to restructure the schools themselves to help reflect what's happening at the smaller schools (possibly smaller class sizes, set teams to create smaller schools within schools, additional support programs, increasing family and community involvement, etc). \n",
    "\n",
    "#### Lastly, I want to briefly mention the comparison in scores between charter schools and district schools. This data shows that charter schools have higher test scores and almost double the overall passing rate as district schools. When looking at this indicator on its own it would be easy to conclude charter schools are doing a better job teaching reading and math. When diving just a little deeper and combining the school type with the school size, the data shows the charter schools are the smaller sized schools. Every district school is classified as \"large\" while only one charter school is \"large\". I would recommend that district decision makers not use school type to draw any solid conclusions.\n"
   ]
  },
  {
   "cell_type": "code",
   "execution_count": null,
   "id": "c2ca8ffb",
   "metadata": {},
   "outputs": [],
   "source": [
    "#import dependencies\n",
    "import pandas as pd\n",
    "from pathlib import Path\n"
   ]
  },
  {
   "cell_type": "code",
   "execution_count": null,
   "id": "728dcd06",
   "metadata": {},
   "outputs": [],
   "source": [
    "#create reference to csv files (schools_complete.csv and students_complete.csv)\n",
    "schools_csv = Path(\"Resources/schools_complete.csv\")\n",
    "students_csv = Path(\"Resources/students_complete.csv\")\n",
    "\n",
    "#read files and create dataframes\n",
    "schools_df = pd.read_csv(schools_csv)\n",
    "students_df = pd.read_csv(students_csv)\n",
    "\n",
    "#combine into one dataframe\n",
    "merged_df = pd.merge(students_df, schools_df, how=\"left\", on=[\"school_name\", \"school_name\"])\n",
    "merged_df.head()\n",
    "\n"
   ]
  },
  {
   "cell_type": "code",
   "execution_count": null,
   "id": "da3fb85e",
   "metadata": {},
   "outputs": [],
   "source": [
    "merged_df.columns\n"
   ]
  },
  {
   "cell_type": "markdown",
   "id": "d903f538",
   "metadata": {},
   "source": [
    "# District Summary"
   ]
  },
  {
   "cell_type": "code",
   "execution_count": null,
   "id": "f5ac183a",
   "metadata": {},
   "outputs": [],
   "source": [
    "#calculate the total number of unique schools; this block is working\n",
    "\n",
    "school_count = len(schools_df)\n",
    "school_count \n",
    "\n"
   ]
  },
  {
   "cell_type": "code",
   "execution_count": null,
   "id": "8ef6aeaa",
   "metadata": {},
   "outputs": [],
   "source": [
    "#calculate the total number of unique students; this block is working\n",
    "\n",
    "student_count = len(students_df)\n",
    "student_count\n"
   ]
  },
  {
   "cell_type": "code",
   "execution_count": null,
   "id": "50457b91",
   "metadata": {},
   "outputs": [],
   "source": [
    "#calculate the total budget; this block is working\n",
    "\n",
    "total_budget = schools_df[\"budget\"].sum()\n",
    "total_budget\n"
   ]
  },
  {
   "cell_type": "code",
   "execution_count": null,
   "id": "9a943b55",
   "metadata": {},
   "outputs": [],
   "source": [
    "#calculate the average math score\n",
    "avg_math = students_df[\"math_score\"].mean()\n",
    "avg_math\n"
   ]
  },
  {
   "cell_type": "code",
   "execution_count": null,
   "id": "cafa4e57",
   "metadata": {},
   "outputs": [],
   "source": [
    "#calculate the average reading score\n",
    "avg_read = students_df[\"reading_score\"].mean()\n",
    "avg_read\n"
   ]
  },
  {
   "cell_type": "code",
   "execution_count": null,
   "id": "3fb4448f",
   "metadata": {},
   "outputs": [],
   "source": [
    "#use the following to calculate the precentage of students who passed math (math scores greater than or equal to 90)\n",
    "passing_math_count = merged_df[(merged_df[\"math_score\"] >= 70)].count()[\"student_name\"]\n",
    "passing_math_percentage = passing_math_count / float(student_count) * 100\n",
    "passing_math_percentage"
   ]
  },
  {
   "cell_type": "code",
   "execution_count": null,
   "id": "89164118",
   "metadata": {},
   "outputs": [],
   "source": [
    "#calculate the percentage of students who passed reading (hint: look at how the math percentage was calculated)\n",
    "passing_reading_count = merged_df[(merged_df[\"reading_score\"] >= 70)].count()[\"student_name\"]\n",
    "passing_reading_percentage = passing_reading_count / float(student_count) * 100\n",
    "passing_reading_percentage"
   ]
  },
  {
   "cell_type": "code",
   "execution_count": null,
   "id": "fe0d8f82",
   "metadata": {},
   "outputs": [],
   "source": [
    "#use the following to calculate the percentage of students that passed math and reading\n",
    "passing_math_reading_count = merged_df[\n",
    "    (merged_df[\"math_score\"] >= 70) & (merged_df[\"reading_score\"] >= 70)\n",
    "].count()[\"student_name\"]\n",
    "overall_passing_rate = passing_math_reading_count /  float(student_count) * 100\n",
    "overall_passing_rate"
   ]
  },
  {
   "cell_type": "code",
   "execution_count": null,
   "id": "1fdf300e",
   "metadata": {},
   "outputs": [],
   "source": [
    "# Create a high-level snapshot of the district's key metrics in a DataFrame\n",
    "#num of schools, total students, total budget, avg math score, avg reading score, % math pass, % reading pass, overall pass%\n",
    "\n",
    "district_summary = pd.DataFrame({\"Metric\": [\"Total Schools\", \"Total Students\", \"Total Budget\", \"Average Math Score\",\n",
    "                                           \"Average Reading Score\", \"% Passing Math\", \"% Passing Reading\", \"% Overall Passing\"], \n",
    "                                 \"Value\": [school_count, student_count, total_budget, avg_math, avg_read, passing_math_percentage,\n",
    "                                           passing_reading_percentage, overall_passing_rate]})\n",
    "\n",
    "#this option works\n",
    "pd.options.display.float_format = '{:,.0f}'.format\n",
    "\n",
    "\n",
    "# Display the DataFrame\n",
    "district_summary\n"
   ]
  },
  {
   "cell_type": "markdown",
   "id": "562ef875",
   "metadata": {},
   "source": [
    "# School Summary"
   ]
  },
  {
   "cell_type": "code",
   "execution_count": null,
   "id": "10b6a217",
   "metadata": {},
   "outputs": [],
   "source": [
    "#select all of the school types\n",
    "schools = merged_df.groupby(\"school_name\")\n",
    "school_types = schools[\"type\"].unique()\n",
    "\n",
    "school_types\n",
    "\n",
    "\n"
   ]
  },
  {
   "cell_type": "code",
   "execution_count": null,
   "id": "548ca132",
   "metadata": {},
   "outputs": [],
   "source": [
    "#calculate the total student count per school\n",
    "#may not need this- gives the total student count per school type\n",
    "school_type_counts = merged_df[\"type\"].value_counts()\n",
    "\n",
    "#student counts\n",
    "school_size = merged_df[\"school_name\"].value_counts()\n",
    "school_size\n",
    "\n",
    "\n",
    "\n"
   ]
  },
  {
   "cell_type": "code",
   "execution_count": null,
   "id": "d63c57c3",
   "metadata": {},
   "outputs": [],
   "source": [
    "#calculate the total school budget per capita spending per school\n",
    "#on school file, this is budget / size (these same columns are in the merged_df)\n",
    "per_school_budget = merged_df.groupby([\"school_name\"])[\"budget\"].unique()\n",
    "school_size = merged_df.groupby([\"school_name\"])[\"size\"].unique()\n",
    "per_school_capita = per_school_budget / school_size\n",
    "\n",
    "per_school_capita = per_school_capita.astype(float)\n",
    "per_school_capita\n",
    "\n"
   ]
  },
  {
   "cell_type": "code",
   "execution_count": null,
   "id": "68ab31cf",
   "metadata": {},
   "outputs": [],
   "source": [
    "#calculate average test scores per school\n",
    "school_group_df = merged_df.set_index([\"school_name\"])\n",
    "school_group_df = school_group_df.groupby([\"school_name\"])\n",
    "total_math = school_group_df[\"math_score\"].sum()\n",
    "total_reading = school_group_df[\"reading_score\"].sum()\n",
    "\n",
    "per_school_math = school_group_df[\"math_score\"].mean()\n",
    "per_school_reading = school_group_df[\"reading_score\"].mean()\n",
    "\n",
    "\n"
   ]
  },
  {
   "cell_type": "code",
   "execution_count": null,
   "id": "bbb51c63",
   "metadata": {},
   "outputs": [],
   "source": [
    "#Calculate the number of students per school with math scores of 70 or higher\n",
    "#use loc to find those > 70 and do a student count??\n",
    "\n",
    "#loc to find scores > 70\n",
    "students_passing_math = merged_df.loc[merged_df[\"math_score\"] >= 70, :]\n",
    "\n",
    "#group them by school, then do a count\n",
    "passing_math_by_school = students_passing_math.groupby(\"school_name\")\n",
    "\n",
    "school_students_passing_math = passing_math_by_school[\"math_score\"].count()\n",
    "\n",
    "school_students_passing_math\n",
    "\n"
   ]
  },
  {
   "cell_type": "code",
   "execution_count": null,
   "id": "1d8ebc6e",
   "metadata": {},
   "outputs": [],
   "source": [
    "#Calculate the number of students per school with math scores of 70 or higher\n",
    "#duplicate the math section!\n",
    "\n",
    "#loc to find scores > 70\n",
    "students_passing_reading = merged_df.loc[merged_df[\"reading_score\"] >= 70, :]\n",
    "\n",
    "#group them by school, then do a count\n",
    "passing_reading_by_school = students_passing_reading.groupby(\"school_name\")\n",
    "\n",
    "school_students_passing_reading = passing_reading_by_school[\"math_score\"].count()\n",
    "\n",
    "school_students_passing_reading\n",
    "\n"
   ]
  },
  {
   "cell_type": "code",
   "execution_count": null,
   "id": "d8e12763",
   "metadata": {},
   "outputs": [],
   "source": [
    "#calculate the number os students per school that passed both math and reading (70 or higher)\n",
    "students_passing_math_and_reading = merged_df[\n",
    "    (merged_df[\"reading_score\"] >= 70) & (merged_df[\"math_score\"] >= 70)\n",
    "]\n",
    "school_students_passing_math_and_reading = students_passing_math_and_reading.groupby([\"school_name\"]).size()\n",
    "\n",
    "school_students_passing_math_and_reading\n"
   ]
  },
  {
   "cell_type": "code",
   "execution_count": null,
   "id": "62ee9016",
   "metadata": {},
   "outputs": [],
   "source": [
    "# Use the provided code to calculate the passing rates\n",
    "#this is now working!\n",
    "per_school_passing_math = school_students_passing_math / school_size * 100\n",
    "per_school_passing_reading = school_students_passing_reading / school_size * 100\n",
    "overall_passing_rate = school_students_passing_math_and_reading / school_size * 100\n",
    "\n",
    "per_school_passing_math = per_school_passing_math.astype(float)\n",
    "per_school_passing_reading = per_school_passing_reading.astype(float)\n",
    "overall_passing_rate = overall_passing_rate.astype(float)\n",
    "\n",
    "\n",
    "\n"
   ]
  },
  {
   "cell_type": "code",
   "execution_count": null,
   "id": "df7bdad9",
   "metadata": {},
   "outputs": [],
   "source": [
    "# Create a DataFrame called `per_school_summary` with columns for the calculations above.\n",
    "per_school_summary = pd.DataFrame({\"School Type\": school_types,\n",
    "                                  \"Total Students\": school_size,\n",
    "                                  \"Total School Budget\": per_school_budget,\n",
    "                                  \"Per Student Budget\": per_school_capita,\n",
    "                                  \"Average Math Score\": per_school_math,\n",
    "                                  \"Average Reading Score\": per_school_reading,\n",
    "                                   \"% Passing Math\": per_school_passing_math,\n",
    "                                   \"% Passing Reading\": per_school_passing_reading,\n",
    "                                   \"% Overall Passing\": overall_passing_rate\n",
    "                                  })\n",
    "\n",
    "school_size = school_size.astype(float)\n",
    "per_school_budget = per_school_budget.astype(float)\n",
    "\n",
    "# Formatting\n",
    "per_school_summary[\"Total School Budget\"] = per_school_summary[\"Total School Budget\"].map(\"${:,.2f}\".format)\n",
    "per_school_summary[\"Per Student Budget\"] = per_school_summary[\"Per Student Budget\"].map(\"${:,.2f}\".format)\n",
    "per_school_summary[\"Average Math Score\"] = per_school_summary[\"Average Math Score\"].map(\"{:,.2f}\".format)\n",
    "per_school_summary[\"Average Reading Score\"] = per_school_summary[\"Average Reading Score\"].map(\"{:,.2f}\".format)\n",
    "per_school_summary[\"% Passing Math\"] = per_school_summary[\"% Passing Math\"].map(\"{:,.2f}%\".format)\n",
    "per_school_summary[\"% Passing Reading\"] = per_school_summary[\"% Passing Reading\"].map(\"{:,.2f}%\".format)\n",
    "per_school_summary[\"% Overall Passing\"] = per_school_summary[\"% Overall Passing\"].map(\"{:,.2f}%\".format)\n",
    "\n",
    "# Minor data wrangling\n",
    "per_school_summary.index.name = None\n",
    "\n",
    "# Display the DataFrame\n",
    "per_school_summary\n",
    "\n"
   ]
  },
  {
   "cell_type": "markdown",
   "id": "ddab2c16",
   "metadata": {},
   "source": [
    "# Highest-Performing Schools (by % Overall Passing)"
   ]
  },
  {
   "cell_type": "code",
   "execution_count": null,
   "id": "e7d3dce6",
   "metadata": {},
   "outputs": [],
   "source": [
    "# Sort the schools by `% Overall Passing` in descending order and display the top 5 rows.\n",
    "top_schools = per_school_summary.sort_values(by=\"% Overall Passing\", ascending=False)\n",
    "top_schools.head(5)"
   ]
  },
  {
   "cell_type": "markdown",
   "id": "5e0b0510",
   "metadata": {},
   "source": [
    "# Bottom Performing Schools (by % Overall Passing)"
   ]
  },
  {
   "cell_type": "code",
   "execution_count": null,
   "id": "a47eed67",
   "metadata": {},
   "outputs": [],
   "source": [
    "# Sort the schools by `% Overall Passing` in ascending order and display the top 5 rows.\n",
    "bottom_schools = per_school_summary.sort_values(by=\"% Overall Passing\", ascending=True)\n",
    "bottom_schools.head(5)"
   ]
  },
  {
   "cell_type": "markdown",
   "id": "d883cf14",
   "metadata": {},
   "source": [
    "# Math Scores by Grade"
   ]
  },
  {
   "cell_type": "code",
   "execution_count": null,
   "id": "f9e36c96",
   "metadata": {},
   "outputs": [],
   "source": [
    "# Use the code provided to separate the data by grade\n",
    "ninth_graders = merged_df[(merged_df[\"grade\"] == \"9th\")]\n",
    "tenth_graders = merged_df[(merged_df[\"grade\"] == \"10th\")]\n",
    "eleventh_graders = merged_df[(merged_df[\"grade\"] == \"11th\")]\n",
    "twelfth_graders = merged_df[(merged_df[\"grade\"] == \"12th\")]\n",
    "\n",
    "# Group by `school_name` and take the mean of the `math_score` column for each.\n",
    "ninth_graders = ninth_graders.set_index([\"school_name\"])\n",
    "ninth_graders = ninth_graders.groupby([\"school_name\"])\n",
    "\n",
    "tenth_graders = tenth_graders.set_index([\"school_name\"])\n",
    "tenth_graders = tenth_graders.groupby([\"school_name\"])\n",
    "\n",
    "eleventh_graders = eleventh_graders.set_index([\"school_name\"])\n",
    "eleventh_graders = eleventh_graders.groupby([\"school_name\"])\n",
    "\n",
    "twelfth_graders = twelfth_graders.set_index([\"school_name\"])\n",
    "twelfth_graders = twelfth_graders.groupby([\"school_name\"])\n",
    "\n",
    "ninth_grade_math_scores = ninth_graders[\"math_score\"].mean()\n",
    "tenth_grade_math_scores = tenth_graders[\"math_score\"].mean()\n",
    "eleventh_grade_math_scores = eleventh_graders[\"math_score\"].mean()\n",
    "twelfth_grade_math_scores = twelfth_graders[\"math_score\"].mean()\n",
    "\n",
    "# Combine each of the scores above into single DataFrame called `math_scores_by_grade`\n",
    "math_scores_by_grade = pd.DataFrame({\"Avg 9th Grade Math\": ninth_grade_math_scores,\n",
    "                                    \"Avg 10th Grade Math\": tenth_grade_math_scores,\n",
    "                                    \"Avg 11th Grade Math\": eleventh_grade_math_scores,\n",
    "                                    \"Avg 12th Grade Math\": twelfth_grade_math_scores})\n",
    "\n",
    "# Minor data wrangling\n",
    "math_scores_by_grade.index.name = None\n",
    "\n",
    "#format with two decimals\n",
    "math_scores_by_grade[\"Avg 9th Grade Math\"] = math_scores_by_grade[\"Avg 9th Grade Math\"].map(\"{:,.2f}\".format)\n",
    "math_scores_by_grade[\"Avg 10th Grade Math\"] = math_scores_by_grade[\"Avg 10th Grade Math\"].map(\"{:,.2f}\".format)\n",
    "math_scores_by_grade[\"Avg 11th Grade Math\"] = math_scores_by_grade[\"Avg 11th Grade Math\"].map(\"{:,.2f}\".format)\n",
    "math_scores_by_grade[\"Avg 12th Grade Math\"] = math_scores_by_grade[\"Avg 12th Grade Math\"].map(\"{:,.2f}\".format)\n",
    "\n",
    "# Display the DataFrame\n",
    "math_scores_by_grade"
   ]
  },
  {
   "cell_type": "markdown",
   "id": "4a84fb2c",
   "metadata": {},
   "source": [
    "# Reading Scores by Grade"
   ]
  },
  {
   "cell_type": "code",
   "execution_count": null,
   "id": "c976b4be",
   "metadata": {},
   "outputs": [],
   "source": [
    "#duplicate the math section!\n",
    "\n",
    "# Use the code provided to separate the data by grade\n",
    "ninth_graders = merged_df[(merged_df[\"grade\"] == \"9th\")]\n",
    "tenth_graders = merged_df[(merged_df[\"grade\"] == \"10th\")]\n",
    "eleventh_graders = merged_df[(merged_df[\"grade\"] == \"11th\")]\n",
    "twelfth_graders = merged_df[(merged_df[\"grade\"] == \"12th\")]\n",
    "\n",
    "# Group by `school_name` and take the mean of the `math_score` column for each.\n",
    "ninth_graders = ninth_graders.set_index([\"school_name\"])\n",
    "ninth_graders = ninth_graders.groupby([\"school_name\"])\n",
    "\n",
    "tenth_graders = tenth_graders.set_index([\"school_name\"])\n",
    "tenth_graders = tenth_graders.groupby([\"school_name\"])\n",
    "\n",
    "eleventh_graders = eleventh_graders.set_index([\"school_name\"])\n",
    "eleventh_graders = eleventh_graders.groupby([\"school_name\"])\n",
    "\n",
    "twelfth_graders = twelfth_graders.set_index([\"school_name\"])\n",
    "twelfth_graders = twelfth_graders.groupby([\"school_name\"])\n",
    "\n",
    "ninth_grade_reading_scores = ninth_graders[\"reading_score\"].mean()\n",
    "tenth_grade_reading_scores = tenth_graders[\"reading_score\"].mean()\n",
    "eleventh_grade_reading_scores = eleventh_graders[\"reading_score\"].mean()\n",
    "twelfth_grade_reading_scores = twelfth_graders[\"reading_score\"].mean()\n",
    "\n",
    "# Combine each of the scores above into single DataFrame called `math_scores_by_grade`\n",
    "reading_scores_by_grade = pd.DataFrame({\"Avg 9th Grade Reading\": ninth_grade_reading_scores,\n",
    "                                    \"Avg 10th Grade Reading\": tenth_grade_reading_scores,\n",
    "                                    \"Avg 11th Grade Reading\": eleventh_grade_reading_scores,\n",
    "                                    \"Avg 12th Grade Reading\": twelfth_grade_reading_scores})\n",
    "\n",
    "# Minor data wrangling\n",
    "reading_scores_by_grade.index.name = None\n",
    "\n",
    "#format with 2 decimals\n",
    "reading_scores_by_grade[\"Avg 9th Grade Reading\"] = reading_scores_by_grade[\"Avg 9th Grade Reading\"].map(\"{:,.2f}\".format)\n",
    "reading_scores_by_grade[\"Avg 10th Grade Reading\"] = reading_scores_by_grade[\"Avg 10th Grade Reading\"].map(\"{:,.2f}\".format)\n",
    "reading_scores_by_grade[\"Avg 11th Grade Reading\"] = reading_scores_by_grade[\"Avg 11th Grade Reading\"].map(\"{:,.2f}\".format)\n",
    "reading_scores_by_grade[\"Avg 12th Grade Reading\"] = reading_scores_by_grade[\"Avg 12th Grade Reading\"].map(\"{:,.2f}\".format)\n",
    "\n",
    "# Display the DataFrame\n",
    "reading_scores_by_grade"
   ]
  },
  {
   "cell_type": "markdown",
   "id": "c567ca2b",
   "metadata": {},
   "source": [
    "# Scores by School Spending"
   ]
  },
  {
   "cell_type": "code",
   "execution_count": null,
   "id": "198d5247",
   "metadata": {},
   "outputs": [],
   "source": [
    "# Establish the bins \n",
    "spending_bins = [0, 585, 630, 645, 680]\n",
    "labels = [\"<$585\", \"$585-630\", \"$630-645\", \"$645-680\"]"
   ]
  },
  {
   "cell_type": "code",
   "execution_count": null,
   "id": "ea665bf1",
   "metadata": {},
   "outputs": [],
   "source": [
    "# Create a copy of the school summary since it has the \"Per Student Budget\" \n",
    "school_spending_df = per_school_summary.copy()\n",
    "\n",
    "#Tip from Amanda in Slack- per student budget needs to be set back to float\n",
    "school_spending_df['Per Student Budget'] = school_spending_df['Per Student Budget'].str.replace('$','')\n",
    "school_spending_df[\"Per Student Budget\"] = school_spending_df[\"Per Student Budget\"].astype(float)\n",
    "\n"
   ]
  },
  {
   "cell_type": "code",
   "execution_count": null,
   "id": "b51c664b",
   "metadata": {},
   "outputs": [],
   "source": [
    "# Use `pd.cut` to categorize spending based on the bins.\n",
    "school_spending_df[\"Spending Ranges (Per Student)\"] = pd.cut(school_spending_df[\"Per Student Budget\"], spending_bins, \n",
    "                                                             labels=labels, include_lowest=True)\n",
    "\n",
    "#running dtypes shows scores and passrates are objects- change them back to float\n",
    "school_spending_df[\"Average Math Score\"] = school_spending_df[\"Average Math Score\"].astype(float)\n",
    "school_spending_df[\"Average Reading Score\"] = school_spending_df[\"Average Reading Score\"].astype(float)\n",
    "\n",
    "school_spending_df['% Passing Math'] = school_spending_df['% Passing Math'].str.replace('%','')\n",
    "school_spending_df[\"% Passing Math\"] = school_spending_df[\"% Passing Math\"].astype(float)\n",
    "\n",
    "school_spending_df['% Passing Reading'] = school_spending_df['% Passing Reading'].str.replace('%','')\n",
    "school_spending_df[\"% Passing Reading\"] = school_spending_df[\"% Passing Reading\"].astype(float)\n",
    "\n",
    "school_spending_df['% Overall Passing'] = school_spending_df['% Overall Passing'].str.replace('%','')\n",
    "school_spending_df[\"% Overall Passing\"] = school_spending_df[\"% Overall Passing\"].astype(float)\n",
    "\n",
    "school_spending_df\n",
    "\n"
   ]
  },
  {
   "cell_type": "code",
   "execution_count": null,
   "id": "381c15db",
   "metadata": {},
   "outputs": [],
   "source": [
    "#  Calculate averages for the desired columns. \n",
    "spending_math_scores = school_spending_df.groupby([\"Spending Ranges (Per Student)\"])[\"Average Math Score\"].mean()\n",
    "spending_reading_scores = school_spending_df.groupby([\"Spending Ranges (Per Student)\"])[\"Average Reading Score\"].mean()\n",
    "spending_passing_math = school_spending_df.groupby([\"Spending Ranges (Per Student)\"])[\"% Passing Math\"].mean()\n",
    "spending_passing_reading = school_spending_df.groupby([\"Spending Ranges (Per Student)\"])[\"% Passing Reading\"].mean()\n",
    "overall_passing_spending = school_spending_df.groupby([\"Spending Ranges (Per Student)\"])[\"% Overall Passing\"].mean()"
   ]
  },
  {
   "cell_type": "code",
   "execution_count": null,
   "id": "44de711f",
   "metadata": {},
   "outputs": [],
   "source": [
    "# Assemble into DataFrame\n",
    "spending_summary = pd.DataFrame({\"Average Math Score\": spending_math_scores,\n",
    "                                \"Average Reading Score\": spending_reading_scores,\n",
    "                                \"% Passing Math\": spending_passing_math,\n",
    "                                \"% Passing Reading\": spending_passing_reading,\n",
    "                                \"% Overall Passing\": overall_passing_spending})\n",
    "\n",
    "#format!\n",
    "spending_summary[\"Average Math Score\"] = spending_summary[\"Average Math Score\"].map(\"{:,.2f}\".format)\n",
    "spending_summary[\"Average Reading Score\"] = spending_summary[\"Average Reading Score\"].map(\"{:,.2f}\".format)\n",
    "spending_summary[\"% Passing Math\"] = spending_summary[\"% Passing Math\"].map(\"{:,.2f}%\".format)\n",
    "spending_summary[\"% Passing Reading\"] = spending_summary[\"% Passing Reading\"].map(\"{:,.2f}%\".format)\n",
    "spending_summary[\"% Overall Passing\"] = spending_summary[\"% Overall Passing\"].map(\"{:,.2f}%\".format)\n",
    "\n",
    "# Display results\n",
    "spending_summary"
   ]
  },
  {
   "cell_type": "markdown",
   "id": "89a09f6f",
   "metadata": {},
   "source": [
    "# Scores by School Size"
   ]
  },
  {
   "cell_type": "code",
   "execution_count": null,
   "id": "f4bf4d29",
   "metadata": {},
   "outputs": [],
   "source": [
    "# Establish the bins.\n",
    "size_bins = [0, 1000, 2000, 5000]\n",
    "labels = [\"Small (<1000)\", \"Medium (1000-2000)\", \"Large (2000-5000)\"]"
   ]
  },
  {
   "cell_type": "code",
   "execution_count": null,
   "id": "432416d9",
   "metadata": {},
   "outputs": [],
   "source": [
    "# Categorize the spending based on the bins\n",
    "#make a copy- NOTE- all datatypes on per_school_summary are objects, except Total Students (float)\n",
    "per_school_summary2 = per_school_summary.copy()\n",
    "\n",
    "# Use `pd.cut` on the \"Total Students\" column of the `per_school_summary` DataFrame.\n",
    "per_school_summary2[\"School Size\"] = pd.cut(per_school_summary2[\"Total Students\"], size_bins, \n",
    "                                                             labels=labels, include_lowest=True)\n",
    "\n",
    "#running dtypes shows scores and passrates are objects- change them back to float\n",
    "per_school_summary2[\"Average Math Score\"] = per_school_summary2[\"Average Math Score\"].astype(float)\n",
    "per_school_summary2[\"Average Reading Score\"] = per_school_summary2[\"Average Reading Score\"].astype(float)\n",
    "\n",
    "per_school_summary2['% Passing Math'] = per_school_summary2['% Passing Math'].str.replace('%','')\n",
    "per_school_summary2[\"% Passing Math\"] = per_school_summary2[\"% Passing Math\"].astype(float)\n",
    "\n",
    "per_school_summary2['% Passing Reading'] = per_school_summary2['% Passing Reading'].str.replace('%','')\n",
    "per_school_summary2[\"% Passing Reading\"] = per_school_summary2[\"% Passing Reading\"].astype(float)\n",
    "\n",
    "per_school_summary2['% Overall Passing'] = per_school_summary2['% Overall Passing'].str.replace('%','')\n",
    "per_school_summary2[\"% Overall Passing\"] = per_school_summary2[\"% Overall Passing\"].astype(float)\n",
    "\n",
    " \n",
    "per_school_summary2\n"
   ]
  },
  {
   "cell_type": "code",
   "execution_count": null,
   "id": "f0a157cd",
   "metadata": {},
   "outputs": [],
   "source": [
    "# Calculate averages for the desired columns. \n",
    "size_math_scores = per_school_summary2.groupby([\"School Size\"])[\"Average Math Score\"].mean()\n",
    "size_reading_scores = per_school_summary2.groupby([\"School Size\"])[\"Average Reading Score\"].mean()\n",
    "size_passing_math = per_school_summary2.groupby([\"School Size\"])[\"% Passing Math\"].mean()\n",
    "size_passing_reading = per_school_summary2.groupby([\"School Size\"])[\"% Passing Reading\"].mean()\n",
    "size_overall_passing = per_school_summary2.groupby([\"School Size\"])[\"% Overall Passing\"].mean()"
   ]
  },
  {
   "cell_type": "code",
   "execution_count": null,
   "id": "8b4af01d",
   "metadata": {},
   "outputs": [],
   "source": [
    "# Create a DataFrame called `size_summary` that breaks down school performance based on school size (small, medium, or large).\n",
    "# Use the scores above to create a new DataFrame called `size_summary`\n",
    "size_summary = pd.DataFrame ({\"Average Math Score\": size_math_scores,\n",
    "                             \"Average Reading Score\": size_reading_scores,\n",
    "                             \"% Passing Math\": size_passing_math,\n",
    "                             \"% Passing Reading\": size_passing_reading,\n",
    "                             \"% Overall Passing\": size_overall_passing})\n",
    "#format!\n",
    "size_summary[\"Average Math Score\"] = size_summary[\"Average Math Score\"].map(\"{:,.2f}\".format)\n",
    "size_summary[\"Average Reading Score\"] = size_summary[\"Average Reading Score\"].map(\"{:,.2f}\".format)\n",
    "size_summary[\"% Passing Math\"] = size_summary[\"% Passing Math\"].map(\"{:,.2f}%\".format)\n",
    "size_summary[\"% Passing Reading\"] = size_summary[\"% Passing Reading\"].map(\"{:,.2f}%\".format)\n",
    "size_summary[\"% Overall Passing\"] = size_summary[\"% Overall Passing\"].map(\"{:,.2f}%\".format)\n",
    "\n",
    "# Display results\n",
    "size_summary"
   ]
  },
  {
   "cell_type": "markdown",
   "id": "b3fe8c5e",
   "metadata": {},
   "source": [
    "# Scores by School Type"
   ]
  },
  {
   "cell_type": "code",
   "execution_count": null,
   "id": "d2b7a881",
   "metadata": {},
   "outputs": [],
   "source": [
    "#make a copy of the per_school_summary and reset the data types\n",
    "per_school_summary3 = per_school_summary.copy()\n",
    "\n",
    "per_school_summary3[\"Average Math Score\"] = per_school_summary3[\"Average Math Score\"].astype(float)\n",
    "per_school_summary3[\"Average Reading Score\"] = per_school_summary3[\"Average Reading Score\"].astype(float)\n",
    "\n",
    "per_school_summary3['% Passing Math'] = per_school_summary3['% Passing Math'].str.replace('%','')\n",
    "per_school_summary3[\"% Passing Math\"] = per_school_summary3[\"% Passing Math\"].astype(float)\n",
    "\n",
    "per_school_summary3['% Passing Reading'] = per_school_summary3['% Passing Reading'].str.replace('%','')\n",
    "per_school_summary3[\"% Passing Reading\"] = per_school_summary3[\"% Passing Reading\"].astype(float)\n",
    "\n",
    "per_school_summary3['% Overall Passing'] = per_school_summary3['% Overall Passing'].str.replace('%','')\n",
    "per_school_summary3[\"% Overall Passing\"] = per_school_summary3[\"% Overall Passing\"].astype(float)\n",
    "\n",
    "per_school_summary3[\"School Type\"] = per_school_summary3[\"School Type\"].astype(str)\n",
    "\n",
    "#display\n",
    "per_school_summary3.dtypes\n",
    "\n",
    "\n",
    "\n"
   ]
  },
  {
   "cell_type": "code",
   "execution_count": null,
   "id": "79a1c3c5",
   "metadata": {},
   "outputs": [],
   "source": [
    "# Group the per_school_summary DataFrame by \"School Type\" and average the results.\n",
    "average_math_score_by_type = per_school_summary3.groupby([\"School Type\"])[\"Average Math Score\"].mean()\n",
    "average_reading_score_by_type = per_school_summary3.groupby([\"School Type\"])[\"Average Reading Score\"].mean()\n",
    "average_percent_passing_math_by_type = per_school_summary3.groupby([\"School Type\"])[\"% Passing Math\"].mean()\n",
    "average_percent_passing_reading_by_type = per_school_summary3.groupby([\"School Type\"])[\"% Passing Reading\"].mean()\n",
    "average_percent_overall_passing_by_type = per_school_summary3.groupby([\"School Type\"])[\"% Overall Passing\"].mean()"
   ]
  },
  {
   "cell_type": "code",
   "execution_count": null,
   "id": "1c959b30",
   "metadata": {},
   "outputs": [],
   "source": [
    "# Assemble the new data by type into a DataFrame called `type_summary`\n",
    "type_summary = pd.DataFrame ({\"Average Math Score\": average_math_score_by_type,\n",
    "                             \"Average Reading Score\": average_reading_score_by_type,\n",
    "                             \"% Passing Math\": average_percent_passing_math_by_type,\n",
    "                             \"% Passing Reading\": average_percent_passing_reading_by_type,\n",
    "                             \"% Overall Passing\": average_percent_overall_passing_by_type})\n",
    "#format!\n",
    "type_summary[\"Average Math Score\"] = type_summary[\"Average Math Score\"].map(\"{:,.2f}\".format)\n",
    "type_summary[\"Average Reading Score\"] = type_summary[\"Average Reading Score\"].map(\"{:,.2f}\".format)\n",
    "type_summary[\"% Passing Math\"] = type_summary[\"% Passing Math\"].map(\"{:,.2f}%\".format)\n",
    "type_summary[\"% Passing Reading\"] = type_summary[\"% Passing Reading\"].map(\"{:,.2f}%\".format)\n",
    "type_summary[\"% Overall Passing\"] = type_summary[\"% Overall Passing\"].map(\"{:,.2f}%\".format)\n",
    "\n",
    "# Display results\n",
    "type_summary"
   ]
  },
  {
   "cell_type": "code",
   "execution_count": null,
   "id": "f46b4fbc",
   "metadata": {},
   "outputs": [],
   "source": []
  }
 ],
 "metadata": {
  "kernelspec": {
   "display_name": "Python 3 (ipykernel)",
   "language": "python",
   "name": "python3"
  },
  "language_info": {
   "codemirror_mode": {
    "name": "ipython",
    "version": 3
   },
   "file_extension": ".py",
   "mimetype": "text/x-python",
   "name": "python",
   "nbconvert_exporter": "python",
   "pygments_lexer": "ipython3",
   "version": "3.10.13"
  }
 },
 "nbformat": 4,
 "nbformat_minor": 5
}
